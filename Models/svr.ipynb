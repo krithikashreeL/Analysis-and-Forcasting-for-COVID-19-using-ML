{
  "cells": [
    {
      "cell_type": "markdown",
      "metadata": {
        "id": "ksFrNM6o8SbP"
      },
      "source": [
        "# Get the data"
      ]
    },
    {
      "cell_type": "code",
      "execution_count": null,
      "metadata": {
        "id": "8OL_AMRP8SbT"
      },
      "outputs": [],
      "source": [
        "import numpy as np \n",
        "import pandas as pd\n",
        "from copy import deepcopy\n",
        "from sklearn.metrics import mean_absolute_error\n",
        "%matplotlib inline \n",
        "random_state=0"
      ]
    },
    {
      "cell_type": "code",
      "execution_count": null,
      "metadata": {
        "id": "Coe9VHV48SbX"
      },
      "outputs": [],
      "source": [
        "# The data is provided by the Johns Hopkins University\n",
        "# https://github.com/CSSEGISandData/COVID-19\n",
        "df = pd.read_csv('https://raw.githubusercontent.com/CSSEGISandData/COVID-19/master/csse_covid_19_data/csse_covid_19_time_series/time_series_covid19_confirmed_global.csv')\n",
        "df = df[df[\"Country/Region\"] == \"US\"]"
      ]
    },
    {
      "cell_type": "code",
      "execution_count": null,
      "metadata": {
        "colab": {
          "base_uri": "https://localhost:8080/",
          "height": 111
        },
        "id": "OtI7QJ8U8Sba",
        "outputId": "c49d9b0e-7025-4b08-fa1c-54ef6344e0e3"
      },
      "outputs": [
        {
          "output_type": "execute_result",
          "data": {
            "text/plain": [
              "    Province/State Country/Region   Lat   Long  1/22/20  1/23/20  1/24/20  \\\n",
              "260            NaN             US  40.0 -100.0        1        1        2   \n",
              "\n",
              "     1/25/20  1/26/20  1/27/20  ...  10/27/22  10/28/22  10/29/22  10/30/22  \\\n",
              "260        2        5        5  ...  97417744  97447888  97456861  97460011   \n",
              "\n",
              "     10/31/22   11/1/22   11/2/22   11/3/22   11/4/22   11/5/22  \n",
              "260  97503019  97550350  97622888  97692050  97729653  97734261  \n",
              "\n",
              "[1 rows x 1023 columns]"
            ],
            "text/html": [
              "\n",
              "  <div id=\"df-bd522824-b554-43dc-bfcc-de3b52221efb\">\n",
              "    <div class=\"colab-df-container\">\n",
              "      <div>\n",
              "<style scoped>\n",
              "    .dataframe tbody tr th:only-of-type {\n",
              "        vertical-align: middle;\n",
              "    }\n",
              "\n",
              "    .dataframe tbody tr th {\n",
              "        vertical-align: top;\n",
              "    }\n",
              "\n",
              "    .dataframe thead th {\n",
              "        text-align: right;\n",
              "    }\n",
              "</style>\n",
              "<table border=\"1\" class=\"dataframe\">\n",
              "  <thead>\n",
              "    <tr style=\"text-align: right;\">\n",
              "      <th></th>\n",
              "      <th>Province/State</th>\n",
              "      <th>Country/Region</th>\n",
              "      <th>Lat</th>\n",
              "      <th>Long</th>\n",
              "      <th>1/22/20</th>\n",
              "      <th>1/23/20</th>\n",
              "      <th>1/24/20</th>\n",
              "      <th>1/25/20</th>\n",
              "      <th>1/26/20</th>\n",
              "      <th>1/27/20</th>\n",
              "      <th>...</th>\n",
              "      <th>10/27/22</th>\n",
              "      <th>10/28/22</th>\n",
              "      <th>10/29/22</th>\n",
              "      <th>10/30/22</th>\n",
              "      <th>10/31/22</th>\n",
              "      <th>11/1/22</th>\n",
              "      <th>11/2/22</th>\n",
              "      <th>11/3/22</th>\n",
              "      <th>11/4/22</th>\n",
              "      <th>11/5/22</th>\n",
              "    </tr>\n",
              "  </thead>\n",
              "  <tbody>\n",
              "    <tr>\n",
              "      <th>260</th>\n",
              "      <td>NaN</td>\n",
              "      <td>US</td>\n",
              "      <td>40.0</td>\n",
              "      <td>-100.0</td>\n",
              "      <td>1</td>\n",
              "      <td>1</td>\n",
              "      <td>2</td>\n",
              "      <td>2</td>\n",
              "      <td>5</td>\n",
              "      <td>5</td>\n",
              "      <td>...</td>\n",
              "      <td>97417744</td>\n",
              "      <td>97447888</td>\n",
              "      <td>97456861</td>\n",
              "      <td>97460011</td>\n",
              "      <td>97503019</td>\n",
              "      <td>97550350</td>\n",
              "      <td>97622888</td>\n",
              "      <td>97692050</td>\n",
              "      <td>97729653</td>\n",
              "      <td>97734261</td>\n",
              "    </tr>\n",
              "  </tbody>\n",
              "</table>\n",
              "<p>1 rows × 1023 columns</p>\n",
              "</div>\n",
              "      <button class=\"colab-df-convert\" onclick=\"convertToInteractive('df-bd522824-b554-43dc-bfcc-de3b52221efb')\"\n",
              "              title=\"Convert this dataframe to an interactive table.\"\n",
              "              style=\"display:none;\">\n",
              "        \n",
              "  <svg xmlns=\"http://www.w3.org/2000/svg\" height=\"24px\"viewBox=\"0 0 24 24\"\n",
              "       width=\"24px\">\n",
              "    <path d=\"M0 0h24v24H0V0z\" fill=\"none\"/>\n",
              "    <path d=\"M18.56 5.44l.94 2.06.94-2.06 2.06-.94-2.06-.94-.94-2.06-.94 2.06-2.06.94zm-11 1L8.5 8.5l.94-2.06 2.06-.94-2.06-.94L8.5 2.5l-.94 2.06-2.06.94zm10 10l.94 2.06.94-2.06 2.06-.94-2.06-.94-.94-2.06-.94 2.06-2.06.94z\"/><path d=\"M17.41 7.96l-1.37-1.37c-.4-.4-.92-.59-1.43-.59-.52 0-1.04.2-1.43.59L10.3 9.45l-7.72 7.72c-.78.78-.78 2.05 0 2.83L4 21.41c.39.39.9.59 1.41.59.51 0 1.02-.2 1.41-.59l7.78-7.78 2.81-2.81c.8-.78.8-2.07 0-2.86zM5.41 20L4 18.59l7.72-7.72 1.47 1.35L5.41 20z\"/>\n",
              "  </svg>\n",
              "      </button>\n",
              "      \n",
              "  <style>\n",
              "    .colab-df-container {\n",
              "      display:flex;\n",
              "      flex-wrap:wrap;\n",
              "      gap: 12px;\n",
              "    }\n",
              "\n",
              "    .colab-df-convert {\n",
              "      background-color: #E8F0FE;\n",
              "      border: none;\n",
              "      border-radius: 50%;\n",
              "      cursor: pointer;\n",
              "      display: none;\n",
              "      fill: #1967D2;\n",
              "      height: 32px;\n",
              "      padding: 0 0 0 0;\n",
              "      width: 32px;\n",
              "    }\n",
              "\n",
              "    .colab-df-convert:hover {\n",
              "      background-color: #E2EBFA;\n",
              "      box-shadow: 0px 1px 2px rgba(60, 64, 67, 0.3), 0px 1px 3px 1px rgba(60, 64, 67, 0.15);\n",
              "      fill: #174EA6;\n",
              "    }\n",
              "\n",
              "    [theme=dark] .colab-df-convert {\n",
              "      background-color: #3B4455;\n",
              "      fill: #D2E3FC;\n",
              "    }\n",
              "\n",
              "    [theme=dark] .colab-df-convert:hover {\n",
              "      background-color: #434B5C;\n",
              "      box-shadow: 0px 1px 3px 1px rgba(0, 0, 0, 0.15);\n",
              "      filter: drop-shadow(0px 1px 2px rgba(0, 0, 0, 0.3));\n",
              "      fill: #FFFFFF;\n",
              "    }\n",
              "  </style>\n",
              "\n",
              "      <script>\n",
              "        const buttonEl =\n",
              "          document.querySelector('#df-bd522824-b554-43dc-bfcc-de3b52221efb button.colab-df-convert');\n",
              "        buttonEl.style.display =\n",
              "          google.colab.kernel.accessAllowed ? 'block' : 'none';\n",
              "\n",
              "        async function convertToInteractive(key) {\n",
              "          const element = document.querySelector('#df-bd522824-b554-43dc-bfcc-de3b52221efb');\n",
              "          const dataTable =\n",
              "            await google.colab.kernel.invokeFunction('convertToInteractive',\n",
              "                                                     [key], {});\n",
              "          if (!dataTable) return;\n",
              "\n",
              "          const docLinkHtml = 'Like what you see? Visit the ' +\n",
              "            '<a target=\"_blank\" href=https://colab.research.google.com/notebooks/data_table.ipynb>data table notebook</a>'\n",
              "            + ' to learn more about interactive tables.';\n",
              "          element.innerHTML = '';\n",
              "          dataTable['output_type'] = 'display_data';\n",
              "          await google.colab.output.renderOutput(dataTable, element);\n",
              "          const docLink = document.createElement('div');\n",
              "          docLink.innerHTML = docLinkHtml;\n",
              "          element.appendChild(docLink);\n",
              "        }\n",
              "      </script>\n",
              "    </div>\n",
              "  </div>\n",
              "  "
            ]
          },
          "metadata": {},
          "execution_count": 323
        }
      ],
      "source": [
        "df.head()"
      ]
    },
    {
      "cell_type": "code",
      "execution_count": null,
      "metadata": {
        "id": "R35PGUn48Sbe"
      },
      "outputs": [],
      "source": [
        "# rawData contains the values of confirmed cases in the world\n",
        "firstDateIndex = df.columns.get_loc(\"1/22/20\")\n",
        "rawData = [0 for i in range(firstDateIndex, df.shape[1])]\n",
        "for i in range(df.shape[1] - firstDateIndex):\n",
        "    rawData[i] = sum(df.iloc[:, i+firstDateIndex])"
      ]
    },
    {
      "cell_type": "code",
      "execution_count": null,
      "metadata": {
        "colab": {
          "base_uri": "https://localhost:8080/",
          "height": 350
        },
        "id": "vmRMPm_08Sbg",
        "outputId": "b3f40f11-fbfc-40e5-ae22-1cf754f26dad"
      },
      "outputs": [
        {
          "output_type": "display_data",
          "data": {
            "text/plain": [
              "<Figure size 720x360 with 1 Axes>"
            ],
            "image/png": "[encoded data removed]"
          },
          "metadata": {
            "needs_background": "light"
          }
        }
      ],
      "source": [
        "import matplotlib.pyplot as plt \n",
        "plt.figure(figsize=(10, 5))\n",
        "plt.title('Number of confirmed Coronavirus cases in the USA', size=20)\n",
        "plt.plot(range(len(rawData)), rawData)\n",
        "plt.show()"
      ]
    },
    {
      "cell_type": "markdown",
      "metadata": {
        "id": "3xBkLZB58Sbh"
      },
      "source": [
        "### The data can be split in 2 parts: \n",
        "1. The linear part made of the first 50 elements \n",
        "2. The rest of the data which is non-linear"
      ]
    },
    {
      "cell_type": "code",
      "execution_count": null,
      "metadata": {
        "id": "vmbzbH-R8Sbm"
      },
      "outputs": [],
      "source": [
        "originalData = deepcopy(rawData)\n",
        "rawData = rawData[:]"
      ]
    },
    {
      "cell_type": "code",
      "execution_count": null,
      "metadata": {
        "id": "AToovd7I8Sbn"
      },
      "outputs": [],
      "source": [
        "numberOfDaysToForcast = 7"
      ]
    },
    {
      "cell_type": "code",
      "execution_count": null,
      "metadata": {
        "id": "YyhLfczA8Sbp",
        "colab": {
          "base_uri": "https://localhost:8080/"
        },
        "outputId": "fb6b964d-a6b9-44a8-fe75-bd377a66817e"
      },
      "outputs": [
        {
          "output_type": "stream",
          "name": "stdout",
          "text": [
            "1019\n",
            "2020-01-22 00:00:00\n",
            "2020-01-29 00:00:00\n",
            "Dates to be predicted:\n"
          ]
        },
        {
          "output_type": "execute_result",
          "data": {
            "text/plain": [
              "[datetime.datetime(2022, 11, 6, 0, 0),\n",
              " datetime.datetime(2022, 11, 7, 0, 0),\n",
              " datetime.datetime(2022, 11, 8, 0, 0),\n",
              " datetime.datetime(2022, 11, 9, 0, 0),\n",
              " datetime.datetime(2022, 11, 10, 0, 0),\n",
              " datetime.datetime(2022, 11, 11, 0, 0),\n",
              " datetime.datetime(2022, 11, 12, 0, 0)]"
            ]
          },
          "metadata": {},
          "execution_count": 328
        }
      ],
      "source": [
        "import datetime\n",
        "numberOfAvailableDays = len(rawData)\n",
        "print(numberOfAvailableDays) # Already has a number confirmed\n",
        "numberOfDays = numberOfAvailableDays + numberOfDaysToForcast\n",
        "numberOfDays\n",
        "day1 = datetime.datetime.strptime('1/22/2020', '%m/%d/%Y')\n",
        "print(day1)\n",
        "day7 = day1 + datetime.timedelta(days=7)\n",
        "print(day7)\n",
        "availableDateRange = [day1+datetime.timedelta(days=x) for x in range(numberOfAvailableDays)]\n",
        "TestDateRange = [availableDateRange[-1]  + datetime.timedelta(days=x)-datetime.timedelta(days=7) for x in range(1, numberOfDaysToForcast+1)]\n",
        "futureDateRange = [availableDateRange[-1]  + datetime.timedelta(days=x) for x in range(1, numberOfDaysToForcast+1)]\n",
        "availableDateRange[-4:]\n",
        "fullAvailableDateRange = [day1 + datetime.timedelta(days=x) for x in range(len(originalData))]\n",
        "print('Dates to be predicted:')\n",
        "futureDateRange\n",
        "# TestDateRange"
      ]
    },
    {
      "cell_type": "code",
      "source": [
        "numberOfPreviousData"
      ],
      "metadata": {
        "colab": {
          "base_uri": "https://localhost:8080/"
        },
        "id": "PEXjRMjuWP4Z",
        "outputId": "edf9d786-634b-40ea-ac02-b406a9a1cef1"
      },
      "execution_count": null,
      "outputs": [
        {
          "output_type": "execute_result",
          "data": {
            "text/plain": [
              "7"
            ]
          },
          "metadata": {},
          "execution_count": 329
        }
      ]
    },
    {
      "cell_type": "markdown",
      "metadata": {
        "id": "ugalK18V8Sbr"
      },
      "source": [
        "# Prepare the Dataset"
      ]
    },
    {
      "cell_type": "code",
      "execution_count": null,
      "metadata": {
        "id": "cLirY43i8Sbt"
      },
      "outputs": [],
      "source": [
        "numberOfPreviousData = 7"
      ]
    },
    {
      "cell_type": "code",
      "execution_count": null,
      "metadata": {
        "colab": {
          "base_uri": "https://localhost:8080/"
        },
        "id": "41fj5vRZ8Sbu",
        "outputId": "ce86a943-8b26-4963-e961-1b6deddf6b4e"
      },
      "outputs": [
        {
          "output_type": "stream",
          "name": "stdout",
          "text": [
            "7\n"
          ]
        }
      ],
      "source": [
        "numberOfTrainingTestRecords = len(rawData) - (numberOfPreviousData+7)\n",
        "numberOfUsableData = numberOfTrainingTestRecords - numberOfPreviousData + 2\n",
        "numberOfTestData = 7\n",
        "print(numberOfTestData)"
      ]
    },
    {
      "cell_type": "code",
      "source": [
        "numberOfTrainingTestRecords"
      ],
      "metadata": {
        "colab": {
          "base_uri": "https://localhost:8080/"
        },
        "id": "krnjhVZ9Wl40",
        "outputId": "f8ae121f-47eb-4f08-87c8-03ef276cad25"
      },
      "execution_count": null,
      "outputs": [
        {
          "output_type": "execute_result",
          "data": {
            "text/plain": [
              "1005"
            ]
          },
          "metadata": {},
          "execution_count": 332
        }
      ]
    },
    {
      "cell_type": "markdown",
      "metadata": {
        "id": "yTOzzSdm8Sbz"
      },
      "source": [
        "## SVR"
      ]
    },
    {
      "cell_type": "code",
      "execution_count": null,
      "metadata": {
        "id": "1wCt_-c48Sbz"
      },
      "outputs": [],
      "source": [
        "from sklearn.model_selection import GridSearchCV\n",
        "from sklearn.svm import SVR"
      ]
    },
    {
      "cell_type": "code",
      "execution_count": null,
      "metadata": {
        "id": "VL51xuTc8Sbz"
      },
      "outputs": [],
      "source": [
        "def findBestParameters(model, train_X, train_y):\n",
        "    modelName = model.__class__.__name__\n",
        "    parameters = {}\n",
        "    if modelName == 'SVR':\n",
        "        parameters = {\n",
        "            'C':[1000, 100, 10, 1],\n",
        "            'epsilon': [0.1, 0.01, 0.05, 0.001],\n",
        "            'gamma': ['scale', 'auto']\n",
        "        }\n",
        "    \n",
        "    clf = GridSearchCV(model, param_grid=parameters, cv=5)\n",
        "    clf.fit(train_X, train_y)\n",
        "    \n",
        "    if modelName == 'SVR':\n",
        "        return SVR(C=clf.best_params_['C'], epsilon=clf.best_params_['epsilon'], gamma=clf.best_params_['gamma'])\n",
        "    \n",
        "    return np.nan"
      ]
    },
    {
      "cell_type": "markdown",
      "metadata": {
        "id": "3d5xTVEP8Sb1"
      },
      "source": [
        "## SVM, MLP, RF"
      ]
    },
    {
      "cell_type": "markdown",
      "metadata": {
        "id": "dRVTCZct8Sb1"
      },
      "source": [
        "### Build the datasets needed to do the recursive multi-step predictions and then train the models with them"
      ]
    },
    {
      "cell_type": "code",
      "execution_count": null,
      "metadata": {
        "id": "6pHODv_n8Sb1"
      },
      "outputs": [],
      "source": [
        "# Build the dataset for training and testing\n",
        "X = np.zeros((numberOfTrainingTestRecords, numberOfPreviousData))\n",
        "y = np.zeros(numberOfTrainingTestRecords)\n",
        "for i in range(numberOfTrainingTestRecords):\n",
        "    for j in range(numberOfPreviousData):\n",
        "        X[i, j] = deepcopy(rawData[i + j])\n",
        "    y[i] = deepcopy(rawData[i + numberOfPreviousData])"
      ]
    },
    {
      "cell_type": "code",
      "execution_count": null,
      "metadata": {
        "id": "8oIGF9YW8Sb2"
      },
      "outputs": [],
      "source": [
        "# Split the dataset into train and test\n",
        "X_train = X[0: -numberOfTestData, :]\n",
        "y_train = y[0: -numberOfTestData]\n",
        "X_test = X[-numberOfTestData:, :]\n",
        "y_test = y[-numberOfTestData:]"
      ]
    },
    {
      "cell_type": "code",
      "execution_count": null,
      "metadata": {
        "id": "j2gtAMEG8Sb3"
      },
      "outputs": [],
      "source": [
        "# Normalize\n",
        "maxValue = max(rawData)\n",
        "X_train = X_train /maxValue\n",
        "y_train = y_train /maxValue\n",
        "X_test = X_test /maxValue\n",
        "y_test = y_test /maxValue"
      ]
    },
    {
      "cell_type": "code",
      "execution_count": null,
      "metadata": {
        "id": "_sbKnkRT8Sb3"
      },
      "outputs": [],
      "source": [
        "\n",
        "def recursiveForcast(model):\n",
        "    temp = []\n",
        "    temp2 = []\n",
        "    errors = np.zeros(numberOfDaysToForcast)\n",
        "    dataUsedToForcast = np.concatenate([y_train[-numberOfPreviousData:], y_test]).copy()\n",
        "    for f in range(len(y_test) - numberOfDaysToForcast + 1):\n",
        "        movingX = deepcopy(dataUsedToForcast[f: f + numberOfPreviousData])\n",
        "        for i in range(numberOfDaysToForcast):\n",
        "            newForcast = model.predict(movingX.reshape(1, -1))\n",
        "            temp.append(newForcast)\n",
        "            observedValue = dataUsedToForcast[f + numberOfPreviousData + i]\n",
        "            temp2.append(observedValue)\n",
        "            # define the error to be the fraction of observed value\n",
        "            currentError = np.abs(newForcast - observedValue)\n",
        "            errors[i] = errors[i] + currentError/newForcast\n",
        "            for j in range(movingX.shape[0] - 1): # Shift\n",
        "                movingX[j] = movingX[j+1]\n",
        "            movingX[-1] = newForcast\n",
        "    recursiveMethodError = errors / (len(y_test) - numberOfDaysToForcast + 1)\n",
        "    print('MAE error for', model.__class__.__name__, recursiveMethodError)\n",
        "    return recursiveMethodError, temp, temp2"
      ]
    },
    {
      "cell_type": "code",
      "execution_count": null,
      "metadata": {
        "colab": {
          "base_uri": "https://localhost:8080/"
        },
        "id": "l7rGcWQc8Sb4",
        "outputId": "7a92cd90-dac7-4502-9b42-035782d7e26d"
      },
      "outputs": [
        {
          "output_type": "stream",
          "name": "stdout",
          "text": [
            "MAE error for SVR [0.00029249 0.00068584 0.00094    0.00132339 0.00157142 0.00165769\n",
            " 0.00167399]\n"
          ]
        }
      ],
      "source": [
        "m = SVR()\n",
        "recursiveError = []\n",
        "\n",
        "m = findBestParameters(m, X_train, y_train)\n",
        "m.fit(X_train, y_train)\n",
        "recursiveMethodError, newForcast, observedValue = recursiveForcast(m)\n",
        "# if m.__class__.__name__ == 'SVR':\n",
        "#     recursiveError = recursiveMethodError"
      ]
    },
    {
      "cell_type": "code",
      "source": [
        "type(newForcast[0])\n",
        "newForcast1 = list(np.concatenate( newForcast, axis=0 ))"
      ],
      "metadata": {
        "id": "fZZDyXhLZZUJ"
      },
      "execution_count": null,
      "outputs": []
    },
    {
      "cell_type": "code",
      "source": [
        "\n",
        "newForcast2 = [x * maxValue for x in newForcast1]"
      ],
      "metadata": {
        "id": "NZUWCKudbADy"
      },
      "execution_count": null,
      "outputs": []
    },
    {
      "cell_type": "code",
      "source": [
        "\n",
        "newForcast2"
      ],
      "metadata": {
        "colab": {
          "base_uri": "https://localhost:8080/"
        },
        "id": "XaLeuZDsiJJv",
        "outputId": "982119c2-a545-426b-9c3f-d5015a07dc0d"
      },
      "execution_count": null,
      "outputs": [
        {
          "output_type": "execute_result",
          "data": {
            "text/plain": [
              "[97176180.18551743,\n",
              " 97177078.90591016,\n",
              " 97195921.71101892,\n",
              " 97230052.18046618,\n",
              " 97264900.4710772,\n",
              " 97286616.86475314,\n",
              " 97293991.64476258]"
            ]
          },
          "metadata": {},
          "execution_count": 353
        }
      ]
    },
    {
      "cell_type": "code",
      "source": [
        "observedValue2 = [x * maxValue for x in observedValue]\n",
        "observedValue2"
      ],
      "metadata": {
        "colab": {
          "base_uri": "https://localhost:8080/"
        },
        "id": "ug66ZhJ5dPop",
        "outputId": "badae973-e801-4f61-fd3b-e19c2359215e"
      },
      "execution_count": null,
      "outputs": [
        {
          "output_type": "execute_result",
          "data": {
            "text/plain": [
              "[97204603.0,\n",
              " 97243727.0,\n",
              " 97287286.0,\n",
              " 97358725.0,\n",
              " 97417744.0,\n",
              " 97447888.0,\n",
              " 97456861.0]"
            ]
          },
          "metadata": {},
          "execution_count": 350
        }
      ]
    },
    {
      "cell_type": "code",
      "source": [
        "import math\n",
        "minValue = min(rawData)\n",
        " \n",
        "MSE = np.square(np.subtract(observedValue2,newForcast2)/(maxValue)).mean() \n",
        " \n",
        "RMSE = math.sqrt(MSE)\n",
        "print(\"Root Mean Square Error:\\n\")\n",
        "print(RMSE)"
      ],
      "metadata": {
        "colab": {
          "base_uri": "https://localhost:8080/"
        },
        "id": "19tt313riFvO",
        "outputId": "4b608349-ddbd-4f71-e254-5f3fa6237578"
      },
      "execution_count": null,
      "outputs": [
        {
          "output_type": "stream",
          "name": "stdout",
          "text": [
            "Root Mean Square Error:\n",
            "\n",
            "0.0012593872265122368\n"
          ]
        }
      ]
    },
    {
      "cell_type": "markdown",
      "metadata": {
        "id": "JgHvbmdJ8Sb5"
      },
      "source": [
        "# Forcast using all available data "
      ]
    },
    {
      "cell_type": "code",
      "execution_count": null,
      "metadata": {
        "id": "ptw3Ps2D8Sb6"
      },
      "outputs": [],
      "source": [
        "# Build the dataset for training and testing\n",
        "X = np.zeros((numberOfTrainingTestRecords, numberOfPreviousData))\n",
        "y = np.zeros(numberOfTrainingTestRecords)\n",
        "for i in range(numberOfTrainingTestRecords):\n",
        "    for j in range(numberOfPreviousData):\n",
        "        X[i, j] = deepcopy(rawData[i + j])\n",
        "    y[i] = deepcopy(rawData[i + numberOfPreviousData])"
      ]
    },
    {
      "cell_type": "code",
      "execution_count": null,
      "metadata": {
        "id": "nv2r5sRq8Sb8"
      },
      "outputs": [],
      "source": [
        "# Split the dataset into train and test\n",
        "X_train = X.copy()\n",
        "y_train = y.copy()\n",
        "X_test = deepcopy(np.array(rawData[-numberOfPreviousData:]))"
      ]
    },
    {
      "cell_type": "code",
      "source": [
        "X_train.shape"
      ],
      "metadata": {
        "colab": {
          "base_uri": "https://localhost:8080/"
        },
        "id": "jdp4WMMyXKRU",
        "outputId": "2fa1b16c-cd01-4d18-95a9-f1add8a3db4a"
      },
      "execution_count": null,
      "outputs": [
        {
          "output_type": "execute_result",
          "data": {
            "text/plain": [
              "(1005, 7)"
            ]
          },
          "metadata": {},
          "execution_count": 364
        }
      ]
    },
    {
      "cell_type": "code",
      "execution_count": null,
      "metadata": {
        "id": "0o_WVA1X8Sb9"
      },
      "outputs": [],
      "source": [
        "# Normalize\n",
        "maxValue = max(rawData)\n",
        "X_train = X_train /maxValue\n",
        "y_train = y_train /maxValue\n",
        "X_test = X_test /maxValue"
      ]
    },
    {
      "cell_type": "code",
      "execution_count": null,
      "metadata": {
        "id": "9fEykWZI8Sb9"
      },
      "outputs": [],
      "source": [
        "def recursiveForcast(model):\n",
        "    movingX = deepcopy(X_test)\n",
        "    predictions = np.zeros(numberOfDaysToForcast)\n",
        "    for i in range(numberOfDaysToForcast):\n",
        "        newForcast = model.predict(movingX.reshape(1, -1))\n",
        "        for j in range(movingX.shape[0] - 1): # Shift\n",
        "            movingX[j] = movingX[j+1]\n",
        "        movingX[-1] = newForcast\n",
        "        predictions[i] = newForcast\n",
        "    predictions = predictions * maxValue\n",
        "    predictions = [int(np.round(x)) for x in predictions]\n",
        "    print('Predictions:', predictions)\n",
        "    return predictions"
      ]
    },
    {
      "cell_type": "code",
      "execution_count": null,
      "metadata": {
        "colab": {
          "base_uri": "https://localhost:8080/"
        },
        "id": "78HhMYbP8Sb-",
        "outputId": "0aee2c71-c254-46b5-ec8f-534d26fea5a7"
      },
      "outputs": [
        {
          "output_type": "stream",
          "name": "stdout",
          "text": [
            "Predictions: [97650658, 97617498, 97621711, 97655226, 97698363, 97714071, 97700869]\n"
          ]
        }
      ],
      "source": [
        "model = SVR()\n",
        "model = findBestParameters(model, X_train, y_train)\n",
        "model.fit(X_train, y_train)\n",
        "recursivePredictions = recursiveForcast(model)"
      ]
    },
    {
      "cell_type": "code",
      "source": [
        "recursivePredictions = [x * maxValue for x in recursivePredictions]\n",
        "recursivePredictions"
      ],
      "metadata": {
        "colab": {
          "base_uri": "https://localhost:8080/"
        },
        "id": "7RkcR0m0eH4j",
        "outputId": "50e9fa27-c5a3-4b35-c414-11703d0cd1d5"
      },
      "execution_count": null,
      "outputs": [
        {
          "output_type": "execute_result",
          "data": {
            "text/plain": [
              "[97650658.0,\n",
              " 97617498.0,\n",
              " 97621711.0,\n",
              " 97655226.0,\n",
              " 97698363.0,\n",
              " 97714071.0,\n",
              " 97700869.0]"
            ]
          },
          "metadata": {},
          "execution_count": 373
        }
      ]
    },
    {
      "cell_type": "code",
      "source": [
        "newForcast2 = [x * maxValue for x in newForcast1]\n",
        "newForcast2"
      ],
      "metadata": {
        "colab": {
          "base_uri": "https://localhost:8080/"
        },
        "id": "Ik1igTGFethC",
        "outputId": "6501a255-2751-4919-c3a8-e42d893f4029"
      },
      "execution_count": null,
      "outputs": [
        {
          "output_type": "execute_result",
          "data": {
            "text/plain": [
              "[97176180.18551743,\n",
              " 97177078.90591016,\n",
              " 97195921.71101892,\n",
              " 97230052.18046618,\n",
              " 97264900.4710772,\n",
              " 97286616.86475314,\n",
              " 97293991.64476258]"
            ]
          },
          "metadata": {},
          "execution_count": 374
        }
      ]
    },
    {
      "cell_type": "code",
      "source": [
        "# predictions = np.zeros(numberOfDaysToForcast)\n",
        "# for t in X_test:\n",
        "#   print(t)"
      ],
      "metadata": {
        "id": "oHRyF06vYpyE"
      },
      "execution_count": null,
      "outputs": []
    },
    {
      "cell_type": "code",
      "source": [
        "fullAvailableDateRange1 = fullAvailableDateRange[960:]\n",
        "originalData1 = originalData[960:]"
      ],
      "metadata": {
        "id": "cFRDEm8DArh9"
      },
      "execution_count": null,
      "outputs": []
    },
    {
      "cell_type": "code",
      "source": [],
      "metadata": {
        "id": "5JB7sl-Dkcsk"
      },
      "execution_count": null,
      "outputs": []
    },
    {
      "cell_type": "code",
      "source": [
        "plt.figure(figsize=(20, 10))\n",
        "plt.rcParams['xtick.labelsize'] = 20 \n",
        "plt.rcParams['ytick.labelsize'] = 20 \n",
        "# plt.plot(fullAvailableDateRange1, originalData1)\n",
        "plt.plot(fullAvailableDateRange1, originalData1)\n",
        "plt.plot(futureDateRange, recursivePredictions, color='red')\n",
        "# plt.plot(TestDateRange, newForcast2, color='red')\n",
        "# lowerBound = recursivePredictions - recursiveError * recursivePredictions\n",
        "# upperBound = recursivePredictions + recursiveError * recursivePredictions\n",
        "# plt.fill_between(futureDateRange, lowerBound, upperBound, color='b', alpha=.1)\n",
        "plt.legend(['Real values', 'Predictions'], prop={'size': 20}, loc=2)\n",
        "plt.xticks( rotation=90)\n",
        "x1,x2,y1,y2 = plt.axis()\n",
        "plt.axis((x1,x2,y1,maxValue*1.01))\n",
        "plt.show()"
      ],
      "metadata": {
        "colab": {
          "base_uri": "https://localhost:8080/",
          "height": 716
        },
        "id": "LfNXdHBCkc38",
        "outputId": "3c702669-bee6-4c62-8f62-50b392a1039f"
      },
      "execution_count": null,
      "outputs": [
        {
          "output_type": "display_data",
          "data": {
            "text/plain": [
              "<Figure size 1440x720 with 1 Axes>"
            ],
            "image/png": "[encoded data removed]"
          },
          "metadata": {
            "needs_background": "light"
          }
        }
      ]
    },
    {
      "cell_type": "code",
      "execution_count": null,
      "metadata": {
        "colab": {
          "base_uri": "https://localhost:8080/",
          "height": 716
        },
        "id": "g3iRtvU88Sb_",
        "outputId": "94d57266-b578-4689-f8a6-973199df3c84"
      },
      "outputs": [
        {
          "output_type": "display_data",
          "data": {
            "text/plain": [
              "<Figure size 1440x720 with 1 Axes>"
            ],
            "image/png": "[encoded data removed]"
          },
          "metadata": {
            "needs_background": "light"
          }
        }
      ],
      "source": [
        "plt.figure(figsize=(20, 10))\n",
        "plt.rcParams['xtick.labelsize'] = 20 \n",
        "plt.rcParams['ytick.labelsize'] = 20 \n",
        "# plt.plot(fullAvailableDateRange1, originalData1)\n",
        "plt.plot(fullAvailableDateRange2, originalData2)\n",
        "# plt.plot(futureDateRange, recursivePredictions, color='red')\n",
        "plt.plot(TestDateRange, newForcast2, color='red')\n",
        "# lowerBound = recursivePredictions - recursiveError * recursivePredictions\n",
        "# upperBound = recursivePredictions + recursiveError * recursivePredictions\n",
        "# plt.fill_between(futureDateRange, lowerBound, upperBound, color='b', alpha=.1)\n",
        "plt.legend(['Real values', 'Predictions'], prop={'size': 20}, loc=2)\n",
        "plt.xticks( rotation=90)\n",
        "x1,x2,y1,y2 = plt.axis()\n",
        "plt.axis((x1,x2,y1,maxValue*1.001))\n",
        "plt.show()"
      ]
    },
    {
      "cell_type": "code",
      "execution_count": null,
      "metadata": {
        "id": "4yOU3Wzd8ScA"
      },
      "outputs": [],
      "source": [
        "print('Number of confirmed cases:')\n",
        "for i, day in enumerate(futureDateRange):\n",
        "    print(day.date(), ':', recursivePredictions[i])"
      ]
    },
    {
      "cell_type": "code",
      "source": [
        "futureDateRange"
      ],
      "metadata": {
        "id": "GbUWMvr9Cs2t",
        "colab": {
          "base_uri": "https://localhost:8080/"
        },
        "outputId": "304b0296-8739-478f-8cb2-87e1d9244f2b"
      },
      "execution_count": null,
      "outputs": [
        {
          "output_type": "execute_result",
          "data": {
            "text/plain": [
              "[datetime.datetime(2022, 11, 5, 0, 0),\n",
              " datetime.datetime(2022, 11, 6, 0, 0),\n",
              " datetime.datetime(2022, 11, 7, 0, 0),\n",
              " datetime.datetime(2022, 11, 8, 0, 0),\n",
              " datetime.datetime(2022, 11, 9, 0, 0),\n",
              " datetime.datetime(2022, 11, 10, 0, 0),\n",
              " datetime.datetime(2022, 11, 11, 0, 0)]"
            ]
          },
          "metadata": {},
          "execution_count": 316
        }
      ]
    },
    {
      "cell_type": "code",
      "source": [
        "fullAvailableDateRange2 =fullAvailableDateRange1[-7:]"
      ],
      "metadata": {
        "id": "nxVjbY9eTaNb"
      },
      "execution_count": null,
      "outputs": []
    },
    {
      "cell_type": "code",
      "source": [
        "originalData2 = originalData1[-7:]"
      ],
      "metadata": {
        "id": "KbqxA_EBgp1m"
      },
      "execution_count": null,
      "outputs": []
    }
  ],
  "metadata": {
    "kernelspec": {
      "display_name": "Python 3",
      "language": "python",
      "name": "python3"
    },
    "language_info": {
      "codemirror_mode": {
        "name": "ipython",
        "version": 3
      },
      "file_extension": ".py",
      "mimetype": "text/x-python",
      "name": "python",
      "nbconvert_exporter": "python",
      "pygments_lexer": "ipython3",
      "version": "3.6.6"
    },
    "colab": {
      "provenance": []
    },
    "accelerator": "GPU",
    "gpuClass": "standard"
  },
  "nbformat": 4,
  "nbformat_minor": 0
}